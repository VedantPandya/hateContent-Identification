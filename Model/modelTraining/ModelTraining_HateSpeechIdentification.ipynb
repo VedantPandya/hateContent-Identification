{
  "nbformat": 4,
  "nbformat_minor": 0,
  "metadata": {
    "colab": {
      "name": "ModelTraining-HateSpeechIdentification",
      "provenance": [],
      "collapsed_sections": [],
      "machine_shape": "hm"
    },
    "kernelspec": {
      "display_name": "Python 3",
      "name": "python3"
    }
  },
  "cells": [
    {
      "cell_type": "markdown",
      "metadata": {
        "id": "gzTN7TU5flr-"
      },
      "source": [
        "# **Importing Modules**"
      ]
    },
    {
      "cell_type": "code",
      "metadata": {
        "id": "zjG6wyU1wfCs"
      },
      "source": [
        "import cv2\n",
        "import numpy as np\n",
        "import skimage.exposure as exposure\n",
        "from google.colab.patches import cv2_imshow\n",
        "import os\n",
        "\n",
        "from google.colab import drive\n",
        "from google.colab import auth\n",
        "from oauth2client.client import GoogleCredentials\n",
        "\n",
        "import shutil\n",
        "\n",
        "import math\n",
        "from google.colab.patches import cv2_imshow\n",
        "\n",
        "import numpy as np\n",
        "import itertools\n",
        "import pandas as pd\n",
        "\n",
        "import json\n",
        "\n",
        "import os\n",
        "\n",
        "import numpy as np\n",
        "import pandas as pd\n",
        "\n",
        "import tensorflow as tf\n",
        "import tensorflow_hub as hub\n",
        "from tensorflow.keras import backend as K\n",
        "import keras\n",
        "from keras import layers\n",
        "from tensorflow.keras.optimizers import Adam\n",
        "from google.colab import files\n",
        "\n",
        "from sklearn.model_selection import train_test_split\n",
        "from sklearn.preprocessing import LabelEncoder\n",
        "\n",
        "import matplotlib.pyplot as plt"
      ],
      "execution_count": null,
      "outputs": []
    },
    {
      "cell_type": "markdown",
      "metadata": {
        "id": "4SH-IHl9fzUV"
      },
      "source": [
        "# **Feature Loading**"
      ]
    },
    {
      "cell_type": "code",
      "metadata": {
        "id": "vt-TpG14wkvm",
        "colab": {
          "base_uri": "https://localhost:8080/"
        },
        "outputId": "b6696299-0a36-426f-ee49-d73bde15b9e0"
      },
      "source": [
        "drive.mount('/content/myDrive', force_remount=True)"
      ],
      "execution_count": null,
      "outputs": [
        {
          "output_type": "stream",
          "name": "stdout",
          "text": [
            "Mounted at /content/myDrive\n"
          ]
        }
      ]
    },
    {
      "cell_type": "code",
      "metadata": {
        "id": "RymtIIiWsVZL"
      },
      "source": [
        "df_s = pd.read_pickle(\"/content/myDrive/MyDrive/combined-features-1.pkl\")"
      ],
      "execution_count": null,
      "outputs": []
    },
    {
      "cell_type": "code",
      "metadata": {
        "id": "Wb_JM7vzzfcV"
      },
      "source": [
        "drive.flush_and_unmount()"
      ],
      "execution_count": null,
      "outputs": []
    },
    {
      "cell_type": "code",
      "metadata": {
        "colab": {
          "base_uri": "https://localhost:8080/",
          "height": 287
        },
        "id": "QnUkTu9K0Rkr",
        "outputId": "bdf3ea03-fbe8-4242-9e4a-876f8df2e574"
      },
      "source": [
        "df_s.head()"
      ],
      "execution_count": null,
      "outputs": [
        {
          "output_type": "execute_result",
          "data": {
            "text/html": [
              "<div>\n",
              "<style scoped>\n",
              "    .dataframe tbody tr th:only-of-type {\n",
              "        vertical-align: middle;\n",
              "    }\n",
              "\n",
              "    .dataframe tbody tr th {\n",
              "        vertical-align: top;\n",
              "    }\n",
              "\n",
              "    .dataframe thead th {\n",
              "        text-align: right;\n",
              "    }\n",
              "</style>\n",
              "<table border=\"1\" class=\"dataframe\">\n",
              "  <thead>\n",
              "    <tr style=\"text-align: right;\">\n",
              "      <th></th>\n",
              "      <th>tweet_features</th>\n",
              "      <th>image_text_features</th>\n",
              "      <th>image_features</th>\n",
              "      <th>labels</th>\n",
              "    </tr>\n",
              "  </thead>\n",
              "  <tbody>\n",
              "    <tr>\n",
              "      <th>0</th>\n",
              "      <td>[0.12990479171276093, -0.06545113772153854, 0....</td>\n",
              "      <td>[0.11435211449861526, -0.05234226584434509, 0....</td>\n",
              "      <td>[2.090221643447876, 2.3086254596710205, 0.6487...</td>\n",
              "      <td>[1, 1, 1]</td>\n",
              "    </tr>\n",
              "    <tr>\n",
              "      <th>1</th>\n",
              "      <td>[0.14545519649982452, -0.09071531891822815, 0....</td>\n",
              "      <td>[0.1072198674082756, -0.07470148056745529, 0.1...</td>\n",
              "      <td>[0.7074947953224182, 0.21232402324676514, 9.40...</td>\n",
              "      <td>[1, 1, 1]</td>\n",
              "    </tr>\n",
              "    <tr>\n",
              "      <th>2</th>\n",
              "      <td>[0.09893526136875153, -0.004031577613204718, 0...</td>\n",
              "      <td>[0.1072198674082756, -0.07470148056745529, 0.1...</td>\n",
              "      <td>[10.121045112609863, 1.3156002759933472, 0.0, ...</td>\n",
              "      <td>[0, 0, 0]</td>\n",
              "    </tr>\n",
              "    <tr>\n",
              "      <th>3</th>\n",
              "      <td>[0.07553254812955856, -0.01863664761185646, 0....</td>\n",
              "      <td>[0.1072198674082756, -0.07470148056745529, 0.1...</td>\n",
              "      <td>[3.0665459632873535, 0.6343408823013306, 0.106...</td>\n",
              "      <td>[1, 0, 0]</td>\n",
              "    </tr>\n",
              "    <tr>\n",
              "      <th>4</th>\n",
              "      <td>[0.053859893232584, 0.04065391421318054, 0.165...</td>\n",
              "      <td>[0.1072198674082756, -0.07470148056745529, 0.1...</td>\n",
              "      <td>[11.037386894226074, 3.784417152404785, 5.7727...</td>\n",
              "      <td>[1, 0, 1]</td>\n",
              "    </tr>\n",
              "  </tbody>\n",
              "</table>\n",
              "</div>"
            ],
            "text/plain": [
              "                                      tweet_features  ...     labels\n",
              "0  [0.12990479171276093, -0.06545113772153854, 0....  ...  [1, 1, 1]\n",
              "1  [0.14545519649982452, -0.09071531891822815, 0....  ...  [1, 1, 1]\n",
              "2  [0.09893526136875153, -0.004031577613204718, 0...  ...  [0, 0, 0]\n",
              "3  [0.07553254812955856, -0.01863664761185646, 0....  ...  [1, 0, 0]\n",
              "4  [0.053859893232584, 0.04065391421318054, 0.165...  ...  [1, 0, 1]\n",
              "\n",
              "[5 rows x 4 columns]"
            ]
          },
          "metadata": {},
          "execution_count": 6
        }
      ]
    },
    {
      "cell_type": "code",
      "metadata": {
        "id": "S-3IQHJ70Jak"
      },
      "source": [
        "tweet_features = list(df_s[\"tweet_features\"])"
      ],
      "execution_count": null,
      "outputs": []
    },
    {
      "cell_type": "code",
      "metadata": {
        "id": "j_9QIlHw0fv6"
      },
      "source": [
        "image_text_features = list(df_s[\"image_text_features\"])"
      ],
      "execution_count": null,
      "outputs": []
    },
    {
      "cell_type": "code",
      "metadata": {
        "id": "0Kk5qm4K0qPj"
      },
      "source": [
        "image_features = list(df_s[\"image_features\"])"
      ],
      "execution_count": null,
      "outputs": []
    },
    {
      "cell_type": "code",
      "metadata": {
        "id": "co6qS1zR0vyd"
      },
      "source": [
        "labels = list(df_s[\"labels\"])"
      ],
      "execution_count": null,
      "outputs": []
    },
    {
      "cell_type": "code",
      "metadata": {
        "colab": {
          "base_uri": "https://localhost:8080/"
        },
        "id": "3NyPlHP62ZZu",
        "outputId": "bfbb6416-994c-4184-bd0d-225ff8d34341"
      },
      "source": [
        "int(0.8*(len(tweet_features)))"
      ],
      "execution_count": null,
      "outputs": [
        {
          "output_type": "execute_result",
          "data": {
            "text/plain": [
              "59878"
            ]
          },
          "metadata": {},
          "execution_count": 18
        }
      ]
    },
    {
      "cell_type": "code",
      "metadata": {
        "id": "6_ynBFlK1dd3"
      },
      "source": [
        "X_train_tweet_features = np.array(tweet_features[0:int(0.8*(len(tweet_features)))])"
      ],
      "execution_count": null,
      "outputs": []
    },
    {
      "cell_type": "code",
      "metadata": {
        "id": "JOIkh87a2sxc"
      },
      "source": [
        "X_image_text_features = np.array(image_text_features[0:int(0.8*(len(image_text_features)))])"
      ],
      "execution_count": null,
      "outputs": []
    },
    {
      "cell_type": "code",
      "metadata": {
        "id": "aKX_zN242zCs"
      },
      "source": [
        "X_image_features = np.array(image_features[0:int(0.8*(len(image_features)))])"
      ],
      "execution_count": null,
      "outputs": []
    },
    {
      "cell_type": "code",
      "metadata": {
        "colab": {
          "base_uri": "https://localhost:8080/"
        },
        "id": "P3CKZ-yC27p0",
        "outputId": "3ceb1f90-0baa-411c-b073-ab52d55b2bc9"
      },
      "source": [
        "print(len(X_train_tweet_features))\n",
        "print(len(X_image_text_features))\n",
        "print(len(X_image_features))"
      ],
      "execution_count": null,
      "outputs": [
        {
          "output_type": "stream",
          "name": "stdout",
          "text": [
            "59878\n",
            "59878\n",
            "59878\n"
          ]
        }
      ]
    },
    {
      "cell_type": "code",
      "metadata": {
        "id": "uuN_YLjg6uvN"
      },
      "source": [
        "[X_train_tweet_features, X_image_text_features, X_image_features]"
      ],
      "execution_count": null,
      "outputs": []
    },
    {
      "cell_type": "code",
      "metadata": {
        "id": "CwPEV33y3QK7"
      },
      "source": [
        "y_train = np.array(labels[0:int(0.8*(len(labels)))])"
      ],
      "execution_count": null,
      "outputs": []
    },
    {
      "cell_type": "code",
      "metadata": {
        "colab": {
          "base_uri": "https://localhost:8080/"
        },
        "id": "aC4rfOGN3b52",
        "outputId": "6d85169c-234e-4270-c9ac-e9d7616f34cd"
      },
      "source": [
        "print(len(y_train))"
      ],
      "execution_count": null,
      "outputs": [
        {
          "output_type": "stream",
          "name": "stdout",
          "text": [
            "59878\n"
          ]
        }
      ]
    },
    {
      "cell_type": "code",
      "metadata": {
        "colab": {
          "base_uri": "https://localhost:8080/"
        },
        "id": "VHH38fky48hO",
        "outputId": "fc6d4c26-dd0c-4f78-fe21-26396e027f0e"
      },
      "source": [
        "print(len(X_train_tweet_features[0]))\n",
        "print(len(X_image_text_features[0]))\n",
        "print(len(X_image_features[0]))"
      ],
      "execution_count": null,
      "outputs": [
        {
          "output_type": "stream",
          "name": "stdout",
          "text": [
            "768\n",
            "768\n",
            "2048\n"
          ]
        }
      ]
    },
    {
      "cell_type": "markdown",
      "metadata": {
        "id": "F1n6ldDff_nm"
      },
      "source": [
        "# **Model Building**"
      ]
    },
    {
      "cell_type": "code",
      "metadata": {
        "id": "qGhEgviU43Tq"
      },
      "source": [
        "input_text = keras.Input(shape=(768,))\n",
        "input_image_text = keras.Input(shape=(768,))\n",
        "input_image = keras.Input(shape=(2048,))\n"
      ],
      "execution_count": null,
      "outputs": []
    },
    {
      "cell_type": "code",
      "metadata": {
        "id": "57TmqH_Z5RlI"
      },
      "source": [
        "concatenated = layers.concatenate([input_text, input_image_text, input_image], axis=-1)\n",
        "output = layers.Dense(3584, activation='relu')(concatenated)\n",
        "output = layers.Dense(1024, activation='relu')(output)\n",
        "output = layers.Dense(512, activation='relu')(output)\n",
        "output = layers.Dense(3, activation='sigmoid')(output)"
      ],
      "execution_count": null,
      "outputs": []
    },
    {
      "cell_type": "code",
      "metadata": {
        "colab": {
          "base_uri": "https://localhost:8080/"
        },
        "id": "4HNnx40x5ymq",
        "outputId": "d2db7078-48c4-4988-efae-010280221ede"
      },
      "source": [
        "model = keras.Model([input_text, input_image_text, input_image], outputs = output)\n",
        "model.summary()"
      ],
      "execution_count": null,
      "outputs": [
        {
          "output_type": "stream",
          "name": "stdout",
          "text": [
            "Model: \"model_1\"\n",
            "__________________________________________________________________________________________________\n",
            "Layer (type)                    Output Shape         Param #     Connected to                     \n",
            "==================================================================================================\n",
            "input_1 (InputLayer)            [(None, 768)]        0                                            \n",
            "__________________________________________________________________________________________________\n",
            "input_2 (InputLayer)            [(None, 768)]        0                                            \n",
            "__________________________________________________________________________________________________\n",
            "input_3 (InputLayer)            [(None, 2048)]       0                                            \n",
            "__________________________________________________________________________________________________\n",
            "concatenate_1 (Concatenate)     (None, 3584)         0           input_1[0][0]                    \n",
            "                                                                 input_2[0][0]                    \n",
            "                                                                 input_3[0][0]                    \n",
            "__________________________________________________________________________________________________\n",
            "dense (Dense)                   (None, 3584)         12848640    concatenate_1[0][0]              \n",
            "__________________________________________________________________________________________________\n",
            "dense_1 (Dense)                 (None, 1024)         3671040     dense[0][0]                      \n",
            "__________________________________________________________________________________________________\n",
            "dense_2 (Dense)                 (None, 512)          524800      dense_1[0][0]                    \n",
            "__________________________________________________________________________________________________\n",
            "dense_3 (Dense)                 (None, 3)            1539        dense_2[0][0]                    \n",
            "==================================================================================================\n",
            "Total params: 17,046,019\n",
            "Trainable params: 17,046,019\n",
            "Non-trainable params: 0\n",
            "__________________________________________________________________________________________________\n"
          ]
        }
      ]
    },
    {
      "cell_type": "code",
      "metadata": {
        "id": "CvJM-Tci6Bug"
      },
      "source": [
        "learning_rate = 1e-4\n",
        "model.compile(optimizer=Adam(learning_rate), loss=['binary_crossentropy', 'binary_crossentropy','binary_crossentropy'])"
      ],
      "execution_count": null,
      "outputs": []
    },
    {
      "cell_type": "markdown",
      "metadata": {
        "id": "R1_pyM5TglEf"
      },
      "source": [
        "# **Model Training**"
      ]
    },
    {
      "cell_type": "code",
      "metadata": {
        "colab": {
          "base_uri": "https://localhost:8080/"
        },
        "id": "S98XZJFF6Obn",
        "outputId": "51068af2-aef6-418c-e712-72afd0cf5e57"
      },
      "source": [
        "history = model.fit([X_train_tweet_features, X_image_text_features, X_image_features], y_train, epochs=3,  validation_split= 0.1, batch_size= 1)"
      ],
      "execution_count": null,
      "outputs": [
        {
          "output_type": "stream",
          "name": "stdout",
          "text": [
            "Epoch 1/3\n",
            "53890/53890 [==============================] - 2579s 48ms/step - loss: 0.6357 - val_loss: 0.6091\n",
            "Epoch 2/3\n",
            "53890/53890 [==============================] - 2806s 52ms/step - loss: 0.6255 - val_loss: 0.6068\n",
            "Epoch 3/3\n",
            "53890/53890 [==============================] - 2834s 53ms/step - loss: 0.6243 - val_loss: 0.6047\n"
          ]
        }
      ]
    },
    {
      "cell_type": "code",
      "metadata": {
        "id": "4DWRzXFRHVR0"
      },
      "source": [
        "model.save(\"hatespeech-2.h5\")"
      ],
      "execution_count": null,
      "outputs": []
    },
    {
      "cell_type": "code",
      "metadata": {
        "colab": {
          "base_uri": "https://localhost:8080/",
          "height": 34
        },
        "id": "Fbyd-LuAHLA1",
        "outputId": "d267deb3-6af0-4ab0-c3fc-ed20cb72aadb"
      },
      "source": [
        "files.download(\"/content/hatespeech-2.h5\")"
      ],
      "execution_count": null,
      "outputs": [
        {
          "output_type": "display_data",
          "data": {
            "application/javascript": [
              "\n",
              "    async function download(id, filename, size) {\n",
              "      if (!google.colab.kernel.accessAllowed) {\n",
              "        return;\n",
              "      }\n",
              "      const div = document.createElement('div');\n",
              "      const label = document.createElement('label');\n",
              "      label.textContent = `Downloading \"${filename}\": `;\n",
              "      div.appendChild(label);\n",
              "      const progress = document.createElement('progress');\n",
              "      progress.max = size;\n",
              "      div.appendChild(progress);\n",
              "      document.body.appendChild(div);\n",
              "\n",
              "      const buffers = [];\n",
              "      let downloaded = 0;\n",
              "\n",
              "      const channel = await google.colab.kernel.comms.open(id);\n",
              "      // Send a message to notify the kernel that we're ready.\n",
              "      channel.send({})\n",
              "\n",
              "      for await (const message of channel.messages) {\n",
              "        // Send a message to notify the kernel that we're ready.\n",
              "        channel.send({})\n",
              "        if (message.buffers) {\n",
              "          for (const buffer of message.buffers) {\n",
              "            buffers.push(buffer);\n",
              "            downloaded += buffer.byteLength;\n",
              "            progress.value = downloaded;\n",
              "          }\n",
              "        }\n",
              "      }\n",
              "      const blob = new Blob(buffers, {type: 'application/binary'});\n",
              "      const a = document.createElement('a');\n",
              "      a.href = window.URL.createObjectURL(blob);\n",
              "      a.download = filename;\n",
              "      div.appendChild(a);\n",
              "      a.click();\n",
              "      div.remove();\n",
              "    }\n",
              "  "
            ],
            "text/plain": [
              "<IPython.core.display.Javascript object>"
            ]
          },
          "metadata": {}
        },
        {
          "output_type": "display_data",
          "data": {
            "application/javascript": [
              "download(\"download_ec2a5b7c-e035-40b3-9af4-fb593b9666f6\", \"hatespeech-2.h5\", 204599664)"
            ],
            "text/plain": [
              "<IPython.core.display.Javascript object>"
            ]
          },
          "metadata": {}
        }
      ]
    }
  ]
}